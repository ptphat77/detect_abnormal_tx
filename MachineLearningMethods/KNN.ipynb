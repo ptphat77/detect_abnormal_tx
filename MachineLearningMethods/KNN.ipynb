{
 "cells": [
  {
   "cell_type": "code",
   "execution_count": 1,
   "metadata": {},
   "outputs": [
    {
     "name": "stdout",
     "output_type": "stream",
     "text": [
      "1.2.2\n"
     ]
    }
   ],
   "source": [
    "import numpy as np\n",
    "import pandas as pd\n",
    "from sklearn.model_selection import train_test_split\n",
    "from sklearn.neighbors import KNeighborsClassifier, NearestNeighbors\n",
    "from sklearn.metrics import accuracy_score, fbeta_score, f1_score\n",
    "from sklearn.preprocessing import MinMaxScaler\n",
    "import sklearn\n",
    "\n",
    "# np.random.seed(42)\n",
    "\n",
    "print(sklearn.__version__)\n"
   ]
  },
  {
   "cell_type": "code",
   "execution_count": 2,
   "metadata": {
    "id": "v6Y1NBA_eGB6"
   },
   "outputs": [
    {
     "name": "stdout",
     "output_type": "stream",
     "text": [
      "                                                    hash   \n",
      "3058   0xb3ba56aa51e10d1120053d6752af895b86da645b242b...  \\\n",
      "3641   0x177ed36fe6e3f016a151d56f03ee0e677747badc9346...   \n",
      "8064   0x35b65e4950d95e0e1c6823aed929fa2bfb7ab49d4181...   \n",
      "24609  0x3bdb87ff86e5645c0adb06fdb8eaaa31c1bfbe70054c...   \n",
      "\n",
      "                                     from_address   \n",
      "3058   0xd6e028c40140de3401c91244fbc864923edf8a7a  \\\n",
      "3641   0xd6e028c40140de3401c91244fbc864923edf8a7a   \n",
      "8064   0xd6e028c40140de3401c91244fbc864923edf8a7a   \n",
      "24609  0xd6e028c40140de3401c91244fbc864923edf8a7a   \n",
      "\n",
      "                                       to_address  from-all_degree   \n",
      "3058   0x7d7137ec4f65b368f937fb1a4d653763748ee4e6             11.0  \\\n",
      "3641   0x39578fd751b3ca9e7a4b8ce49e848f32f71a07d7             11.0   \n",
      "8064   0xdd76400cedc2e760a0a6483a19b4bf919d19a216             11.0   \n",
      "24609  0x4cf40566bbdff9bbae4204ee4e1f09e1bf68025b             11.0   \n",
      "\n",
      "       from-total_time_outgoing  from-active_duration  from-avg_gas_price   \n",
      "3058               1.659573e+13          1.302038e+09        1.707182e+10  \\\n",
      "3641               1.659573e+13          1.302038e+09        1.707182e+10   \n",
      "8064               1.659573e+13          1.302038e+09        1.707182e+10   \n",
      "24609              1.659573e+13          1.302038e+09        1.707182e+10   \n",
      "\n",
      "       from-total_amount  from-in_degree  from-unique_in_degree   \n",
      "3058        1.418600e+18             0.0                    0.0  \\\n",
      "3641        1.418600e+18             0.0                    0.0   \n",
      "8064        1.418600e+18             0.0                    0.0   \n",
      "24609       1.418600e+18             0.0                    0.0   \n",
      "\n",
      "       from-avg_amount_incoming  from-total_amount_incoming   \n",
      "3058                        NaN                         0.0  \\\n",
      "3641                        NaN                         0.0   \n",
      "8064                        NaN                         0.0   \n",
      "24609                       NaN                         0.0   \n",
      "\n",
      "       from-max_amount_incoming  from-min_amount_incoming   \n",
      "3058                        NaN                       NaN  \\\n",
      "3641                        NaN                       NaN   \n",
      "8064                        NaN                       NaN   \n",
      "24609                       NaN                       NaN   \n",
      "\n",
      "       from-avg_time_incoming  from-out_degree  from-unique_out_degree   \n",
      "3058                      NaN             11.0                    10.0  \\\n",
      "3641                      NaN             11.0                    10.0   \n",
      "8064                      NaN             11.0                    10.0   \n",
      "24609                     NaN             11.0                    10.0   \n",
      "\n",
      "       from-avg_amount_outgoing  from-total_amount_outgoing   \n",
      "3058               1.289636e+17                1.418600e+18  \\\n",
      "3641               1.289636e+17                1.418600e+18   \n",
      "8064               1.289636e+17                1.418600e+18   \n",
      "24609              1.289636e+17                1.418600e+18   \n",
      "\n",
      "       from-min_amount_outgoing  from-avg_time_outgoing   \n",
      "3058               6.400000e+15            1.508703e+12  \\\n",
      "3641               6.400000e+15            1.508703e+12   \n",
      "8064               6.400000e+15            1.508703e+12   \n",
      "24609              6.400000e+15            1.508703e+12   \n",
      "\n",
      "       from-mean_time_interval  from-max_time_interval   \n",
      "3058                       NaN                     NaN  \\\n",
      "3641                       NaN                     NaN   \n",
      "8064                       NaN                     NaN   \n",
      "24609                      NaN                     NaN   \n",
      "\n",
      "       from-min_time_interval  from-coefficient  to-all_degree   \n",
      "3058                      NaN               0.0            3.0  \\\n",
      "3641                      NaN               0.0            1.0   \n",
      "8064                      NaN               0.0            1.0   \n",
      "24609                     NaN               0.0            1.0   \n",
      "\n",
      "       to-total_time_outgoing  to-active_duration  to-avg_gas_price   \n",
      "3058             1.518344e+12        1.020331e+10      3.041667e+10  \\\n",
      "3641             0.000000e+00        0.000000e+00      2.178000e+10   \n",
      "8064             0.000000e+00        0.000000e+00      2.090000e+10   \n",
      "24609            0.000000e+00        0.000000e+00      5.250000e+09   \n",
      "\n",
      "       to-total_amount  to-in_degree  to-unique_in_degree   \n",
      "3058      4.992000e+18           2.0                  2.0  \\\n",
      "3641      1.280000e+16           1.0                  1.0   \n",
      "8064      1.500000e+16           1.0                  1.0   \n",
      "24609     1.600000e+16           1.0                  1.0   \n",
      "\n",
      "       to-avg_amount_incoming  to-total_amount_incoming   \n",
      "3058             1.996000e+18              3.992000e+18  \\\n",
      "3641             1.280000e+16              1.280000e+16   \n",
      "8064             1.500000e+16              1.500000e+16   \n",
      "24609            1.600000e+16              1.600000e+16   \n",
      "\n",
      "       to-max_amount_incoming  to-min_amount_incoming  to-avg_time_incoming   \n",
      "3058             3.640000e+18            3.520000e+17          1.508268e+12  \\\n",
      "3641             1.280000e+16            1.280000e+16          1.508502e+12   \n",
      "8064             1.500000e+16            1.500000e+16          1.508852e+12   \n",
      "24609            1.600000e+16            1.600000e+16          1.509442e+12   \n",
      "\n",
      "       to-out_degree  to-unique_out_degree  to-avg_amount_outgoing   \n",
      "3058             1.0                   1.0            1.000000e+18  \\\n",
      "3641             0.0                   0.0                     NaN   \n",
      "8064             0.0                   0.0                     NaN   \n",
      "24609            0.0                   0.0                     NaN   \n",
      "\n",
      "       to-total_amount_outgoing  to-min_amount_outgoing  to-avg_time_outgoing   \n",
      "3058               1.000000e+18            1.000000e+18          1.518344e+12  \\\n",
      "3641               0.000000e+00                     NaN                   NaN   \n",
      "8064               0.000000e+00                     NaN                   NaN   \n",
      "24609              0.000000e+00                     NaN                   NaN   \n",
      "\n",
      "       to-mean_time_interval  to-max_time_interval  to-min_time_interval   \n",
      "3058                     NaN                   NaN                   NaN  \\\n",
      "3641                     NaN                   NaN                   NaN   \n",
      "8064                     NaN                   NaN                   NaN   \n",
      "24609                    NaN                   NaN                   NaN   \n",
      "\n",
      "       to-coefficient  label  \n",
      "3058              0.0      0  \n",
      "3641              0.0      0  \n",
      "8064              0.0      0  \n",
      "24609             0.0      0  \n"
     ]
    }
   ],
   "source": [
    "\n",
    "# Đọc dữ liệu từ tệp CSV\n",
    "data = pd.read_csv('../balanced_transaction-from-to-prefix-22.csv')\n",
    "\n",
    "#### Set null ####\n",
    "# for index, row in data.iterrows():\n",
    "#     if row['from-in_degree'] == 0:\n",
    "#         data.loc[index, 'from-total_amount_incoming'] = None\n",
    "#     if row['from-out_degree'] == 0:\n",
    "#         data.loc[index, 'from-total_amount_outgoing'] = None\n",
    "#     if row['to-in_degree'] == 0:\n",
    "#         data.loc[index, 'to-total_amount_incoming'] = None\n",
    "#     if row['to-out_degree'] == 0:\n",
    "#         data.loc[index, 'to-total_amount_outgoing'] = None\n",
    "##################\n",
    "\n",
    "pd.set_option('display.max_columns', None)\n",
    "print((data[data['from_address'] == '0xd6e028c40140de3401c91244fbc864923edf8a7a']))\n",
    "\n",
    "############## Loại bỏ các transaction trùng lặp ##############\n",
    "# df = data.drop_duplicates(subset=['from_address', 'from_address'], inplace=False)\n",
    "# # Lấy tất cả địa chỉ bất thường (nhãn 1)\n",
    "# abnormal_addresses = df[df['label'] == 1]\n",
    "\n",
    "# # Tính số lượng địa chỉ bình thường cần lấy\n",
    "# num_normal_addresses = int(len(abnormal_addresses) / 0.46 * 0.54)\n",
    "\n",
    "# # Lấy ngẫu nhiên các địa chỉ bình thường\n",
    "# normal_addresses = df[df['label'] == 0].sample(num_normal_addresses, random_state=42)\n",
    "\n",
    "# # Kết hợp các địa chỉ bất thường và bình thường\n",
    "# balanced_df = pd.concat([abnormal_addresses, normal_addresses])\n",
    "\n",
    "# # Trộn lại tập dữ liệu\n",
    "# data = balanced_df.sample(frac=1, random_state=42).reset_index(drop=True)\n",
    "# print(data.shape)\n",
    "\n",
    "#################################################################\n",
    "\n"
   ]
  },
  {
   "cell_type": "code",
   "execution_count": 3,
   "metadata": {},
   "outputs": [
    {
     "name": "stdout",
     "output_type": "stream",
     "text": [
      "                                                hash   \n",
      "0  0x55d13b2d19b517ff6255124753e609778e9095db7e79...  \\\n",
      "\n",
      "                                 from_address   \n",
      "0  0xaa0d8f86869b0a406da56db978e02bf5a6c74fd5  \\\n",
      "\n",
      "                                   to_address  from-all_degree   \n",
      "0  0xc249fe0288e75e47e62b138de8d020c9fee5a9f5             23.0  \\\n",
      "\n",
      "   from-total_time_outgoing  from-active_duration  from-avg_gas_price   \n",
      "0              3.536349e+13          1.222433e+09        7.195652e+09  \\\n",
      "\n",
      "   from-total_amount  from-in_degree  from-unique_in_degree   \n",
      "0       1.030000e+18             0.0                    0.0  \\\n",
      "\n",
      "   from-avg_amount_incoming  from-total_amount_incoming   \n",
      "0                      -1.0                         0.0  \\\n",
      "\n",
      "   from-max_amount_incoming  from-min_amount_incoming  from-avg_time_incoming   \n",
      "0                      -1.0                      -1.0                    -1.0  \\\n",
      "\n",
      "   from-out_degree  from-unique_out_degree  from-avg_amount_outgoing   \n",
      "0             23.0                     1.0              4.478261e+16  \\\n",
      "\n",
      "   from-total_amount_outgoing  from-min_amount_outgoing   \n",
      "0                1.030000e+18                       0.0  \\\n",
      "\n",
      "   from-avg_time_outgoing  from-mean_time_interval  from-max_time_interval   \n",
      "0            1.537543e+12             3.832160e+08            1.222433e+09  \\\n",
      "\n",
      "   from-min_time_interval  from-coefficient  to-all_degree   \n",
      "0                 31000.0               0.0         3037.0  \\\n",
      "\n",
      "   to-total_time_outgoing  to-active_duration  to-avg_gas_price   \n",
      "0                     0.0        3.975236e+10      1.013253e+10  \\\n",
      "\n",
      "   to-total_amount  to-in_degree  to-unique_in_degree  to-avg_amount_incoming   \n",
      "0     1.651034e+20        3037.0               1038.0            5.436398e+16  \\\n",
      "\n",
      "   to-total_amount_incoming  to-max_amount_incoming  to-min_amount_incoming   \n",
      "0              1.651034e+20            7.000000e+18                     0.0  \\\n",
      "\n",
      "   to-avg_time_incoming  to-out_degree  to-unique_out_degree   \n",
      "0          1.537982e+12            0.0                   0.0  \\\n",
      "\n",
      "   to-avg_amount_outgoing  to-total_amount_outgoing  to-min_amount_outgoing   \n",
      "0                    -1.0                       0.0                    -1.0  \\\n",
      "\n",
      "   to-avg_time_outgoing  to-mean_time_interval  to-max_time_interval   \n",
      "0                  -1.0           4.754501e+08          1.137734e+10  \\\n",
      "\n",
      "   to-min_time_interval  to-coefficient  label  \n",
      "0                5000.0             0.0      1  \n",
      "num_features:  22\n",
      "[0.00000000e+00 2.98645018e-06 0.00000000e+00 5.57638889e-02\n",
      " 7.17094173e-08 0.00000000e+00 0.00000000e+00 0.00000000e+00\n",
      " 0.00000000e+00 0.00000000e+00 0.00000000e+00 0.00000000e+00\n",
      " 0.00000000e+00 0.00000000e+00 1.00000000e-06 7.17094173e-08\n",
      " 1.00000000e-06 1.11473546e-01 0.00000000e+00 0.00000000e+00\n",
      " 0.00000000e+00 0.00000000e+00 0.00000000e+00 0.00000000e+00\n",
      " 0.00000000e+00 5.57638889e-02 8.27047770e-08 0.00000000e+00\n",
      " 0.00000000e+00 1.00000000e-06 1.13442202e-07 6.25000000e-07\n",
      " 1.00000000e-06 1.11482447e-01 0.00000000e+00 0.00000000e+00\n",
      " 0.00000000e+00 0.00000000e+00 0.00000000e+00 0.00000000e+00\n",
      " 0.00000000e+00 0.00000000e+00 0.00000000e+00 0.00000000e+00]\n"
     ]
    }
   ],
   "source": [
    "\n",
    "data = data.replace(np.nan, -1)\n",
    "print(data.head(1))\n",
    "#22-KLTN-newtime\n",
    "# data = data[['hash', 'from_address', 'to_address', 'label','from-all_degree', 'from-total_time_outgoing', 'from-avg_gas_price', 'from-total_amount', 'from-unique_in_degree', 'from-avg_amount_incoming', 'from-total_amount_incoming', 'from-max_amount_incoming', 'from-min_amount_incoming', 'from-avg_time_incoming', 'from-out_degree', 'from-unique_out_degree', 'from-avg_amount_outgoing', 'from-total_amount_outgoing', 'from-min_amount_outgoing', 'from-avg_time_outgoing', 'from-mean_time_interval', 'from-min_time_interval', 'from-coefficient', 'to-all_degree', 'to-total_time_outgoing', 'to-avg_gas_price', 'to-total_amount', 'to-unique_in_degree', 'to-avg_amount_incoming', 'to-total_amount_incoming', 'to-max_amount_incoming', 'to-min_amount_incoming', 'to-avg_time_incoming', 'to-out_degree', 'to-unique_out_degree', 'to-avg_amount_outgoing', 'to-total_amount_outgoing', 'to-min_amount_outgoing', 'to-avg_time_outgoing', 'to-mean_time_interval', 'to-min_time_interval', 'to-coefficient']]\n",
    "# data = data[['hash', 'from_address', 'to_address', 'label','from-all_degree', 'from-total_time_outgoing', 'from-avg_gas_price', 'from-in_degree', 'from-unique_in_degree', 'from-max_amount_incoming', 'from-min_amount_incoming', 'from-avg_time_incoming', 'from-out_degree', 'from-unique_out_degree', 'from-total_amount_outgoing', 'from-avg_time_outgoing', 'from-mean_time_interval', 'from-max_time_interval', 'from-min_time_interval', 'to-all_degree', 'to-total_time_outgoing', 'to-avg_gas_price', 'to-in_degree', 'to-unique_in_degree', 'to-max_amount_incoming', 'to-min_amount_incoming', 'to-avg_time_incoming', 'to-out_degree', 'to-unique_out_degree', 'to-total_amount_outgoing', 'to-avg_time_outgoing', 'to-mean_time_interval', 'to-max_time_interval', 'to-min_time_interval']]\n",
    "\n",
    "#22-newtime\n",
    "# data = data[['hash', 'from_address', 'to_address', 'label','from-total_time_outgoing', 'from-total_time_incoming', 'from-total_amount', 'from-in_degree', 'from-avg_amount_incoming', 'from-total_amount_incoming', 'from-max_amount_incoming', 'from-min_amount_incoming', 'from-out_degree', 'from-unique_out_degree', 'from-total_amount_outgoing', 'from-min_amount_outgoing', 'from-max_time_interval', 'from-min_time_interval', 'to-total_time_outgoing', 'to-total_time_incoming', 'to-total_amount', 'to-in_degree', 'to-avg_amount_incoming', 'to-total_amount_incoming', 'to-max_amount_incoming', 'to-min_amount_incoming', 'to-out_degree', 'to-unique_out_degree', 'to-total_amount_outgoing', 'to-min_amount_outgoing', 'to-max_time_interval', 'to-min_time_interval']]\n",
    "# data = data[['hash', 'from_address', 'to_address', 'label', 'from-max_time_interval','from-avg_gas_price','from-unique_in_degree','from-avg_amount_incoming','from-out_degree','from-avg_amount_outgoing','from-mean_time_interval','to-max_time_interval','to-avg_gas_price','to-unique_in_degree','to-avg_amount_incoming','to-out_degree','to-avg_amount_outgoing','to-mean_time_interval']]\n",
    "# data = data[['hash', 'from_address', 'to_address', 'label', 'from-avg_gas_price', 'from-total_amount', 'from-unique_in_degree','from-total_amount_incoming', 'from-max_amount_incoming','from-min_amount_incoming', 'from-unique_out_degree','from-total_amount_outgoing', 'from-min_amount_outgoing','from-mean_time_interval', 'from-max_time_interval','from-min_time_interval', 'to-avg_gas_price', 'to-total_amount', 'to-unique_in_degree','to-total_amount_incoming', 'to-max_amount_incoming','to-min_amount_incoming', 'to-unique_out_degree','to-total_amount_outgoing', 'to-min_amount_outgoing','to-mean_time_interval', 'to-max_time_interval','to-min_time_interval']]\n",
    "# print('##############')\n",
    "# print(data.head(1))\n",
    "\n",
    "X = data.drop(columns=['hash','from_address','to_address','label'], axis=1).values\n",
    "y = data['label'].values\n",
    "\n",
    "# Tiền xử lý dữ liệu\n",
    "scaler = MinMaxScaler()\n",
    "normalized_data = scaler.fit_transform(X)\n",
    "\n",
    "# Chia dữ liệu thành tập huấn luyện và kiểm tra\n",
    "X_train, X_test, y_train, y_test = train_test_split(normalized_data, y, test_size=0.2, random_state=42)\n",
    "\n",
    "# X_test = (X_test - 127.5) / 127.5\n",
    "# X_test = X_test / 255.0\n",
    "# X = (trainX - 127.5) / 127.5\n",
    "# X_train = trainX / 255.0  \n",
    "\n",
    "# Số lượng đặc trưng\n",
    "num_features = int(X_train.shape[1] / 2)\n",
    "\n",
    "print(\"num_features: \" ,num_features)\n",
    "print(X_train[1])"
   ]
  },
  {
   "cell_type": "code",
   "execution_count": 4,
   "metadata": {},
   "outputs": [
    {
     "name": "stdout",
     "output_type": "stream",
     "text": [
      "test select\n",
      "(13392, 44)\n",
      "[ 7270   860  5390  5191 11964 11284  5734  6265   466  4426  5578 11636\n",
      " 11363 11111  8322  1685   769 10583  6949  2433  5311  5051  6420  1184\n",
      "  4555  3385 12309  6396 13035 11096  8666  9274  2558  7849  2047  2747\n",
      "  9167  9998   189  2734  3005  4658  1899  7734  1267  1528 11394  3556\n",
      "  3890  8838]\n",
      "(11390, 44)\n",
      "[11080  5393 10627  8792 10555 10253  8433 10233 11016  7513  2612  7041\n",
      "  9555  6235  5486  7099  9670 10748   775  8226  3152 10147  1585  3943\n",
      "  7555  3073  1021 10805  3843  7989  9692  6873  5675   161  4297 10173\n",
      "   995  7629  9467  1016  7869  6439  7892  6863  7916  8529   878  9268\n",
      "  4887  4859]\n",
      "(100, 44)\n"
     ]
    }
   ],
   "source": [
    "# from numpy.random import randn, randint\n",
    "from numpy import expand_dims, zeros, ones, asarray\n",
    "\n",
    "np.random.seed(42)\n",
    "\n",
    "def select_supervised_samples(dataset, n_samples=100, n_classes=2):\n",
    " \tprint('test select')\n",
    " \tX, y = dataset\n",
    " \tX_list, y_list = list(), list()\n",
    " \tn_per_class = int(n_samples / n_classes) #Number of amples per class.\n",
    " \tfor i in range(n_classes):\n",
    "         X_with_class = X[y == i] # get all images for this class\n",
    "         print(X_with_class.shape)\n",
    "         ix = np.random.randint(0, len(X_with_class), n_per_class) # choose random images for each class\n",
    "#          ix_list = [1516,9739,12238,4973,7391,5391,4182,745,10389,8060,11986,14912,15132,12761,8995,5885,730,15558,6122,4532,374,7843,11096,3149,5830,848,6647,5985,5050,6391,8113,10425,13408,15644,9960,11058,8723,7630,4697,9965,15826,537,15452,11599,2429,16128,10677,2922,11889,13743]\n",
    "#          ix = np.array(ix_list)\n",
    "         print(ix)\n",
    "         [X_list.append(X_with_class[j]) for j in ix] # add to list\n",
    "         [y_list.append(i) for j in ix]\n",
    " \treturn asarray(X_list), asarray(y_list) #Returns a list of 2 numpy arrays corresponding to X and Y\n",
    "\n",
    "dataset = [X_train, y_train]\n",
    "X_train, y_train = select_supervised_samples(dataset)\n",
    "print(X_train.shape)"
   ]
  },
  {
   "cell_type": "code",
   "execution_count": 5,
   "metadata": {
    "colab": {
     "base_uri": "https://localhost:8080/"
    },
    "id": "k6rUBJ-EeU2Y",
    "outputId": "84583909-e59a-4430-f785-7ece4ab8236c"
   },
   "outputs": [
    {
     "data": {
      "text/html": [
       "<style>#sk-container-id-1 {color: black;background-color: white;}#sk-container-id-1 pre{padding: 0;}#sk-container-id-1 div.sk-toggleable {background-color: white;}#sk-container-id-1 label.sk-toggleable__label {cursor: pointer;display: block;width: 100%;margin-bottom: 0;padding: 0.3em;box-sizing: border-box;text-align: center;}#sk-container-id-1 label.sk-toggleable__label-arrow:before {content: \"▸\";float: left;margin-right: 0.25em;color: #696969;}#sk-container-id-1 label.sk-toggleable__label-arrow:hover:before {color: black;}#sk-container-id-1 div.sk-estimator:hover label.sk-toggleable__label-arrow:before {color: black;}#sk-container-id-1 div.sk-toggleable__content {max-height: 0;max-width: 0;overflow: hidden;text-align: left;background-color: #f0f8ff;}#sk-container-id-1 div.sk-toggleable__content pre {margin: 0.2em;color: black;border-radius: 0.25em;background-color: #f0f8ff;}#sk-container-id-1 input.sk-toggleable__control:checked~div.sk-toggleable__content {max-height: 200px;max-width: 100%;overflow: auto;}#sk-container-id-1 input.sk-toggleable__control:checked~label.sk-toggleable__label-arrow:before {content: \"▾\";}#sk-container-id-1 div.sk-estimator input.sk-toggleable__control:checked~label.sk-toggleable__label {background-color: #d4ebff;}#sk-container-id-1 div.sk-label input.sk-toggleable__control:checked~label.sk-toggleable__label {background-color: #d4ebff;}#sk-container-id-1 input.sk-hidden--visually {border: 0;clip: rect(1px 1px 1px 1px);clip: rect(1px, 1px, 1px, 1px);height: 1px;margin: -1px;overflow: hidden;padding: 0;position: absolute;width: 1px;}#sk-container-id-1 div.sk-estimator {font-family: monospace;background-color: #f0f8ff;border: 1px dotted black;border-radius: 0.25em;box-sizing: border-box;margin-bottom: 0.5em;}#sk-container-id-1 div.sk-estimator:hover {background-color: #d4ebff;}#sk-container-id-1 div.sk-parallel-item::after {content: \"\";width: 100%;border-bottom: 1px solid gray;flex-grow: 1;}#sk-container-id-1 div.sk-label:hover label.sk-toggleable__label {background-color: #d4ebff;}#sk-container-id-1 div.sk-serial::before {content: \"\";position: absolute;border-left: 1px solid gray;box-sizing: border-box;top: 0;bottom: 0;left: 50%;z-index: 0;}#sk-container-id-1 div.sk-serial {display: flex;flex-direction: column;align-items: center;background-color: white;padding-right: 0.2em;padding-left: 0.2em;position: relative;}#sk-container-id-1 div.sk-item {position: relative;z-index: 1;}#sk-container-id-1 div.sk-parallel {display: flex;align-items: stretch;justify-content: center;background-color: white;position: relative;}#sk-container-id-1 div.sk-item::before, #sk-container-id-1 div.sk-parallel-item::before {content: \"\";position: absolute;border-left: 1px solid gray;box-sizing: border-box;top: 0;bottom: 0;left: 50%;z-index: -1;}#sk-container-id-1 div.sk-parallel-item {display: flex;flex-direction: column;z-index: 1;position: relative;background-color: white;}#sk-container-id-1 div.sk-parallel-item:first-child::after {align-self: flex-end;width: 50%;}#sk-container-id-1 div.sk-parallel-item:last-child::after {align-self: flex-start;width: 50%;}#sk-container-id-1 div.sk-parallel-item:only-child::after {width: 0;}#sk-container-id-1 div.sk-dashed-wrapped {border: 1px dashed gray;margin: 0 0.4em 0.5em 0.4em;box-sizing: border-box;padding-bottom: 0.4em;background-color: white;}#sk-container-id-1 div.sk-label label {font-family: monospace;font-weight: bold;display: inline-block;line-height: 1.2em;}#sk-container-id-1 div.sk-label-container {text-align: center;}#sk-container-id-1 div.sk-container {/* jupyter's `normalize.less` sets `[hidden] { display: none; }` but bootstrap.min.css set `[hidden] { display: none !important; }` so we also need the `!important` here to be able to override the default hidden behavior on the sphinx rendered scikit-learn.org. See: https://github.com/scikit-learn/scikit-learn/issues/21755 */display: inline-block !important;position: relative;}#sk-container-id-1 div.sk-text-repr-fallback {display: none;}</style><div id=\"sk-container-id-1\" class=\"sk-top-container\"><div class=\"sk-text-repr-fallback\"><pre>KNeighborsClassifier()</pre><b>In a Jupyter environment, please rerun this cell to show the HTML representation or trust the notebook. <br />On GitHub, the HTML representation is unable to render, please try loading this page with nbviewer.org.</b></div><div class=\"sk-container\" hidden><div class=\"sk-item\"><div class=\"sk-estimator sk-toggleable\"><input class=\"sk-toggleable__control sk-hidden--visually\" id=\"sk-estimator-id-1\" type=\"checkbox\" checked><label for=\"sk-estimator-id-1\" class=\"sk-toggleable__label sk-toggleable__label-arrow\">KNeighborsClassifier</label><div class=\"sk-toggleable__content\"><pre>KNeighborsClassifier()</pre></div></div></div></div></div>"
      ],
      "text/plain": [
       "KNeighborsClassifier()"
      ]
     },
     "execution_count": 5,
     "metadata": {},
     "output_type": "execute_result"
    }
   ],
   "source": [
    "knn = KNeighborsClassifier()\n",
    "knn.fit(X_train, y_train)"
   ]
  },
  {
   "cell_type": "code",
   "execution_count": 6,
   "metadata": {},
   "outputs": [
    {
     "name": "stdout",
     "output_type": "stream",
     "text": [
      "Thời gian thực thi: 196925.80 micro giây\n",
      "[0 0 0 ... 0 0 1]\n",
      "6196\n",
      "<class 'numpy.ndarray'>\n",
      "accuracy:  0.8132666236281472\n",
      "fpr:  0.18673337637185283\n",
      "f1-score:  0.8010318142734307\n"
     ]
    },
    {
     "data": {
      "text/plain": [
       "0.9897819445907511"
      ]
     },
     "execution_count": 6,
     "metadata": {},
     "output_type": "execute_result"
    }
   ],
   "source": [
    "import time\n",
    "# Lấy thời gian bắt đầu\n",
    "start_time = time.perf_counter()\n",
    "\n",
    "y_pred = knn.predict(X_test)\n",
    "\n",
    "# Lấy thời gian kết thúc\n",
    "end_time = time.perf_counter()\n",
    "# Tính thời gian thực thi (đơn vị: giây)\n",
    "execution_time = end_time - start_time\n",
    "# Chuyển đơi sang đơn vị micro giây\n",
    "execution_time_microseconds = execution_time * 1000000\n",
    "print(f\"Thời gian thực thi: {execution_time_microseconds:.2f} micro giây\")\n",
    "\n",
    "print(y_pred)\n",
    "print(len(y_test))\n",
    "# y_pred = y_pred.astype(np.float64)\n",
    "accuracy = accuracy_score(y_test, y_pred)\n",
    "fpr = 1 - fbeta_score(y_test, y_pred, beta=2, average='micro')  # Sử dụng F2-score để ước tính FPR\n",
    "f1_score = f1_score(y_test, y_pred)\n",
    "print(type(y_pred))\n",
    "print(\"accuracy: \", accuracy)\n",
    "print(\"fpr: \", fpr)\n",
    "print(\"f1-score: \", f1_score)\n",
    "0.9897819445907511"
   ]
  },
  {
   "cell_type": "code",
   "execution_count": 7,
   "metadata": {},
   "outputs": [
    {
     "name": "stdout",
     "output_type": "stream",
     "text": [
      "Số dòng tương ứng mà array1 bằng 1 và array2 bằng 0 là: 363\n",
      "Các vị trí tương ứng là: [  32   49   62   80  118  137  144  157  172  199  228  229  237  245\n",
      "  321  368  370  392  440  484  486  490  491  513  600  617  649  692\n",
      "  703  737  751  765  766  779  795  800  818  835  841  849  856  965\n",
      "  987  992 1014 1085 1091 1133 1141 1175 1182 1232 1267 1299 1323 1334\n",
      " 1379 1381 1437 1442 1496 1533 1550 1590 1605 1608 1630 1644 1646 1737\n",
      " 1745 1753 1784 1786 1825 1893 1937 2039 2089 2122 2136 2139 2178 2182\n",
      " 2230 2249 2279 2309 2324 2328 2349 2381 2446 2459 2466 2497 2503 2513\n",
      " 2517 2546 2559 2598 2622 2627 2641 2705 2706 2726 2729 2796 2827 2847\n",
      " 2854 2868 2876 2897 2904 2919 2921 2974 3016 3069 3084 3093 3136 3149\n",
      " 3207 3257 3284 3323 3361 3392 3399 3438 3462 3465 3484 3530 3604 3609\n",
      " 3610 3631 3663 3784 3841 3884 3893 3908 3910 3913 3940 4006 4050 4059\n",
      " 4065 4083 4087 4090 4096 4112 4155 4158 4185 4186 4197 4206 4253 4256\n",
      " 4283 4306 4330 4426 4440 4480 4527 4666 4677 4694 4699 4708 4733 4739\n",
      " 4769 4779 4789 4805 4812 4817 4877 4887 4919 4933 4985 5013 5059 5087\n",
      " 5092 5154 5177 5269 5271 5305 5393 5422 5426 5431 5454 5469 5492 5554\n",
      " 5557 5571 5591 5595 5604 5640 5650 5687 5712 5745 5749 5791 5795 5849\n",
      " 5963 5990 6081 6093 6096 6104 6159 6212 6245 6270 6301 6340 6342 6347\n",
      " 6354 6360 6399 6411 6439 6465 6491 6511 6513 6543 6545 6593 6616 6684\n",
      " 6694 6700 6750 6792 6850 6865 6868 6875 6885 6892 6992 7003 7008 7041\n",
      " 7075 7115 7174 7215 7229 7232 7266 7267 7270 7286 7340 7372 7451 7453\n",
      " 7469 7482 7502 7507 7569 7575 7576 7600 7602 7662 7690 7737 7743 7744\n",
      " 7750 7776 7797 7877 7880 7915 7986 7993 7996 8019 8068 8140 8145 8175\n",
      " 8195 8224 8229 8273 8281 8348 8355 8367 8445 8505 8517 8539 8574 8588\n",
      " 8604 8611 8620 8624 8695 8734 8788 8811 8832 8859 8908 8910 8927 8948\n",
      " 9000 9023 9107 9137 9230 9246 9252 9274 9279 9281 9305 9325 9336 9341\n",
      " 9347 9351 9379 9398 9399 9416 9418 9421 9424 9431 9439 9454 9457]\n"
     ]
    }
   ],
   "source": [
    "\n",
    "# Tạo mảng boolean cho điều kiện array1 == 1 và array2 == 0\n",
    "condition1 = (y_pred == 1)\n",
    "condition2 = (y_test == 0)\n",
    "\n",
    "# Tìm các vị trí mà cả hai điều kiện đều đúng\n",
    "matched_indices = np.where(condition1 & condition2)\n",
    "\n",
    "# Đếm số lượng vị trí tìm được\n",
    "count = len(matched_indices[0])\n",
    "\n",
    "print(f\"Số dòng tương ứng mà array1 bằng 1 và array2 bằng 0 là: {count}\")\n",
    "print(\"Các vị trí tương ứng là:\", matched_indices[0])"
   ]
  },
  {
   "cell_type": "code",
   "execution_count": 7,
   "metadata": {},
   "outputs": [
    {
     "name": "stdout",
     "output_type": "stream",
     "text": [
      "Dương tính giả (false positive rate): 0.1876\n"
     ]
    }
   ],
   "source": [
    "from sklearn.metrics import confusion_matrix\n",
    "tn, fp, fn, tp = confusion_matrix(y_test, y_pred).ravel()\n",
    "\n",
    "# Tính toán dương tính giả (false positive rate)\n",
    "fpr = fp / (fp + tn)\n",
    "\n",
    "print(f\"Dương tính giả (false positive rate): {fpr:.4f}\")"
   ]
  },
  {
   "cell_type": "code",
   "execution_count": 117,
   "metadata": {},
   "outputs": [
    {
     "data": {
      "text/plain": [
       "array([6, 9])"
      ]
     },
     "execution_count": 117,
     "metadata": {},
     "output_type": "execute_result"
    }
   ],
   "source": [
    "# import numpy\n",
    "# np.random.seed(42)\n",
    "np.random.randint(0,10,2)"
   ]
  },
  {
   "cell_type": "code",
   "execution_count": null,
   "metadata": {},
   "outputs": [],
   "source": []
  },
  {
   "cell_type": "code",
   "execution_count": null,
   "metadata": {},
   "outputs": [],
   "source": []
  }
 ],
 "metadata": {
  "colab": {
   "provenance": []
  },
  "kernelspec": {
   "display_name": "Python 3 (ipykernel)",
   "language": "python",
   "name": "python3"
  },
  "language_info": {
   "codemirror_mode": {
    "name": "ipython",
    "version": 3
   },
   "file_extension": ".py",
   "mimetype": "text/x-python",
   "name": "python",
   "nbconvert_exporter": "python",
   "pygments_lexer": "ipython3",
   "version": "3.11.6"
  }
 },
 "nbformat": 4,
 "nbformat_minor": 1
}
