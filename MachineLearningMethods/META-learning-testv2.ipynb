{
 "cells": [
  {
   "cell_type": "code",
   "execution_count": 1,
   "metadata": {
    "colab": {
     "base_uri": "https://localhost:8080/"
    },
    "id": "A-9Yx51Q0zPT",
    "outputId": "f8d90a93-0c88-4b6e-f7dd-ace752f4e77a"
   },
   "outputs": [
    {
     "name": "stdout",
     "output_type": "stream",
     "text": [
      "(47463, 48)\n"
     ]
    }
   ],
   "source": [
    "import numpy as np\n",
    "import pandas as pd\n",
    "import tensorflow as tf\n",
    "from tensorflow.keras.layers import Dense, Input, LeakyReLU, BatchNormalization\n",
    "from tensorflow.keras.models import Model\n",
    "from sklearn.preprocessing import MinMaxScaler, LabelEncoder\n",
    "from sklearn.model_selection import train_test_split\n",
    "import time\n",
    "from numpy import expand_dims\n",
    "import joblib\n",
    "\n",
    "\n",
    "# Đọc DataFrame 'transaction'\n",
    "transaction_df = pd.read_csv('../balanced_transaction-from-to-prefix-22-KLTN-newtime.csv')\n",
    "print(transaction_df.shape)"
   ]
  },
  {
   "cell_type": "code",
   "execution_count": 2,
   "metadata": {},
   "outputs": [
    {
     "name": "stdout",
     "output_type": "stream",
     "text": [
      "WARNING:tensorflow:Error in loading the saved optimizer state. As a result, your model is starting with a freshly initialized optimizer.\n",
      "1484/1484 [==============================] - 2s 877us/step\n",
      "1484/1484 [==============================] - 16s 11ms/step\n",
      "                                                hash  label  lstm_prediction   \n",
      "0  0x1d8dc0228d0ecc674c00dbc8c02dfc31e235ee1f2577...      1                1  \\\n",
      "1  0xdf3a1a30c2914b306dd8cb45b5227232daa29f809bfe...      0                0   \n",
      "2  0xc4120db5c02a21116ad9e9dabc9dafa6ef2ef6e6e4e3...      0                0   \n",
      "3  0xbe7c8d401d352a3b26364c02e2771d8869cd3c2e4269...      0                0   \n",
      "4  0xa0a022845546742aa76ceb49b6b77b55df373c9f6467...      1                1   \n",
      "\n",
      "   sgan_prediction  \n",
      "0                1  \n",
      "1                0  \n",
      "2                0  \n",
      "3                0  \n",
      "4                1  \n"
     ]
    }
   ],
   "source": [
    "# loading the lstm model\n",
    "lstm_model = tf.keras.models.load_model('./Result-ML/final/lstm-5000')\n",
    "sgan_model = tf.keras.models.load_model('./Result-ML/final/sgan/5000/disc_sup_0070.h5')\n",
    "\n",
    "# Tiền xử lý dữ liệu\n",
    "replace_nan = transaction_df.replace(np.nan, -1)\n",
    "\n",
    "X = replace_nan.drop(columns=['hash','from_address','to_address','label'], axis=1).values\n",
    "\n",
    "##### reshape SGAN #####\n",
    "# Padding giá trị -2 để có số lượng đặc trưng là bội số của 49\n",
    "num_padding = 49 - X.shape[1] % 49\n",
    "X_padded = np.pad(X, ((0, 0), (0, num_padding)), mode='constant', constant_values=-2)\n",
    "scaler = MinMaxScaler()\n",
    "normalized_data = scaler.fit_transform(X_padded)\n",
    "X_reshaped_sgan = normalized_data.reshape(-1, 7, 7)\n",
    "X_reshaped_sgan = expand_dims(X_reshaped_sgan, axis=-1)\n",
    "\n",
    "##### reshape LSTM #####\n",
    "# Padding giá trị -2 để có số lượng đặc trưng là bội số của 49\n",
    "num_padding = 900 - X.shape[1] % 900\n",
    "X_padded = np.pad(X, ((0, 0), (0, num_padding)), mode='constant', constant_values=-2)\n",
    "scaler = MinMaxScaler()\n",
    "normalized_data = scaler.fit_transform(X_padded)\n",
    "X_reshaped_lstm = normalized_data.reshape(-1, 30, 30)\n",
    "X_reshaped_lstm = expand_dims(X_reshaped_lstm, axis=-1)\n",
    "\n",
    "#dự đoán\n",
    "y_pred_sgan=sgan_model.predict(X_reshaped_sgan)\n",
    "y_pred_sgan=np.argmax(y_pred_sgan,axis=1)\n",
    "y_pred_lstm=lstm_model.predict(X_reshaped_lstm)\n",
    "y_pred_lstm=np.argmax(y_pred_lstm,axis=1)\n",
    "\n",
    "# Kiểm tra xem số lượng dự đoán có khớp với số hàng trong transaction_df\n",
    "if len(y_pred_lstm) == len(transaction_df) and len(y_pred_sgan) == len(transaction_df):\n",
    "    # Thêm cột mới vào transaction_df\n",
    "    transaction_df['lstm_prediction'] = y_pred_lstm\n",
    "    transaction_df['sgan_prediction'] = y_pred_sgan\n",
    "else:\n",
    "    print(\"Số lượng dự đoán không khớp với số hàng trong DataFrame. Hãy kiểm tra lại.\")\n",
    "\n",
    "# Hiển thị một vài hàng đầu tiên để kiểm tra\n",
    "print(transaction_df[['hash', 'label', 'lstm_prediction', 'sgan_prediction']].head())\n",
    "\n",
    "# # Lưu DataFrame đã cập nhật (tùy chọn)\n",
    "# transaction_df.to_csv('updated_transaction_df.csv', index=False)\n",
    "\n"
   ]
  },
  {
   "cell_type": "code",
   "execution_count": 15,
   "metadata": {},
   "outputs": [
    {
     "name": "stdout",
     "output_type": "stream",
     "text": [
      "(9493, 46)\n",
      "Accuracy: 0.9946\n",
      "Precision: 0.9929\n",
      "Recall: 0.9954\n",
      "F1-score: 0.9942\n",
      "Confusion Matrix:\n",
      "[[5094   31]\n",
      " [  20 4348]]\n",
      "Dương tính giả (false positive rate): 0.0060\n"
     ]
    }
   ],
   "source": [
    "import pandas as pd\n",
    "import numpy as np\n",
    "from sklearn.model_selection import train_test_split\n",
    "from sklearn.preprocessing import StandardScaler\n",
    "from sklearn.ensemble import RandomForestClassifier\n",
    "from sklearn.svm import SVC\n",
    "from sklearn.neighbors import KNeighborsClassifier\n",
    "from sklearn.linear_model import LogisticRegression\n",
    "from sklearn.tree import DecisionTreeClassifier\n",
    "from sklearn.naive_bayes import GaussianNB\n",
    "from sklearn.neural_network import MLPClassifier\n",
    "from sklearn.metrics import accuracy_score, precision_score, recall_score, f1_score, confusion_matrix\n",
    "\n",
    "# Giả sử transaction_df đã được tiền xử lý và có các cột dự đoán của LSTM và SGAN\n",
    "\n",
    "# 1. Chuẩn bị dữ liệu\n",
    "X = transaction_df.drop(['hash', 'from_address', 'to_address', 'label', 'lstm_prediction', 'sgan_prediction'], axis=1)\n",
    "y = transaction_df['label']\n",
    "\n",
    "X = X.replace(np.nan, -1)\n",
    "\n",
    "# Chia dữ liệu thành tập train và test\n",
    "X_train, X_test, y_train, y_test = train_test_split(X, y, test_size=0.2, random_state=56)\n",
    "\n",
    "# Chuẩn hóa dữ liệu\n",
    "scaler = StandardScaler()\n",
    "X_train_scaled = scaler.fit_transform(X_train)\n",
    "X_test_scaled = scaler.transform(X_test)\n",
    "\n",
    "# 2. Lấy dự đoán từ LSTM và SGAN cho tập train và test\n",
    "lstm_test_pred = transaction_df.loc[X_test.index, 'lstm_prediction']\n",
    "sgan_test_pred = transaction_df.loc[X_test.index, 'sgan_prediction']\n",
    "\n",
    "# 4. Load model\n",
    "meta_features_test = np.column_stack((X_test_scaled, lstm_test_pred, sgan_test_pred))\n",
    "print(meta_features_test.shape)\n",
    "meta_learner = joblib.load('./Result-ML/final/meta-learner-rf-5000.joblib')\n",
    "\n",
    "\n",
    "# 5. Dự đoán sử dụng meta-learner\n",
    "y_pred = meta_learner.predict(meta_features_test)\n",
    "\n",
    "# 6. Đánh giá kết quả\n",
    "accuracy = accuracy_score(y_test, y_pred)\n",
    "precision = precision_score(y_test, y_pred)\n",
    "recall = recall_score(y_test, y_pred)\n",
    "f1 = f1_score(y_test, y_pred)\n",
    "conf_matrix = confusion_matrix(y_test, y_pred)\n",
    "\n",
    "print(f\"Accuracy: {accuracy:.4f}\")\n",
    "print(f\"Precision: {precision:.4f}\")\n",
    "print(f\"Recall: {recall:.4f}\")\n",
    "print(f\"F1-score: {f1:.4f}\")\n",
    "print(\"Confusion Matrix:\")\n",
    "print(conf_matrix)\n",
    "tn, fp, fn, tp = conf_matrix.ravel()\n",
    "fpr = fp / (fp + tn)\n",
    "print(f\"Dương tính giả (false positive rate): {fpr:.4f}\")"
   ]
  },
  {
   "cell_type": "code",
   "execution_count": 16,
   "metadata": {},
   "outputs": [
    {
     "name": "stdout",
     "output_type": "stream",
     "text": [
      "297/297 [==============================] - 0s 1ms/step\n",
      "####### SGAN #######\n",
      "Accuracy: 0.9312\n",
      "Precision: 0.9771\n",
      "Recall: 0.8709\n",
      "F1-score: 0.9210\n",
      "Confusion Matrix:\n",
      "[[5036   89]\n",
      " [ 564 3804]]\n",
      "False Positive Rate: 0.0174\n"
     ]
    }
   ],
   "source": [
    "# Xử lý cho SGAN\n",
    "num_padding_sgan = 49 - X_test.shape[1] % 49\n",
    "X_padded_sgan = np.pad(X_test, ((0, 0), (0, num_padding_sgan)), mode='constant', constant_values=-2)\n",
    "scaler_sgan = MinMaxScaler()\n",
    "X_normalized_sgan = scaler_sgan.fit_transform(X_padded_sgan)\n",
    "X_reshaped_sgan = X_normalized_sgan.reshape(-1, 7, 7)\n",
    "X_reshaped_sgan = expand_dims(X_reshaped_sgan, axis=-1)\n",
    "\n",
    "# Dự đoán\n",
    "y_pred_sgan = sgan_model.predict(X_reshaped_sgan)\n",
    "y_pred_sgan = np.argmax(y_pred_sgan, axis=1)\n",
    "\n",
    "# Đánh giá kết quả SGAN\n",
    "accuracy = accuracy_score(y_test, y_pred_sgan)\n",
    "precision = precision_score(y_test, y_pred_sgan)\n",
    "recall = recall_score(y_test, y_pred_sgan)\n",
    "f1 = f1_score(y_test, y_pred_sgan)\n",
    "conf_matrix = confusion_matrix(y_test, y_pred_sgan)\n",
    "print(\"####### SGAN #######\")\n",
    "print(f\"Accuracy: {accuracy:.4f}\")\n",
    "print(f\"Precision: {precision:.4f}\")\n",
    "print(f\"Recall: {recall:.4f}\")\n",
    "print(f\"F1-score: {f1:.4f}\")\n",
    "print(\"Confusion Matrix:\")\n",
    "print(conf_matrix)\n",
    "tn, fp, fn, tp = conf_matrix.ravel()\n",
    "fpr = fp / (fp + tn)\n",
    "print(f\"False Positive Rate: {fpr:.4f}\")"
   ]
  },
  {
   "cell_type": "code",
   "execution_count": 17,
   "metadata": {},
   "outputs": [
    {
     "name": "stdout",
     "output_type": "stream",
     "text": [
      "297/297 [==============================] - 3s 11ms/step\n",
      "####### LSTM #######\n",
      "Accuracy: 0.9634\n",
      "Precision: 0.9515\n",
      "Recall: 0.9700\n",
      "F1-score: 0.9607\n",
      "Confusion Matrix:\n",
      "[[4909  216]\n",
      " [ 131 4237]]\n",
      "False Positive Rate: 0.0421\n"
     ]
    }
   ],
   "source": [
    "# Xử lý cho LSTM\n",
    "num_padding_lstm = 900 - X_test.shape[1] % 900\n",
    "X_padded_lstm = np.pad(X_test, ((0, 0), (0, num_padding_lstm)), mode='constant', constant_values=-2)\n",
    "scaler_lstm = MinMaxScaler()\n",
    "X_normalized_lstm = scaler_lstm.fit_transform(X_padded_lstm)\n",
    "X_reshaped_lstm = X_normalized_lstm.reshape(-1, 30, 30)\n",
    "X_reshaped_lstm = expand_dims(X_reshaped_lstm, axis=-1)\n",
    "\n",
    "# Dự đoán\n",
    "y_pred_lstm=lstm_model.predict(X_reshaped_lstm)\n",
    "y_pred_lstm=np.argmax(y_pred_lstm,axis=1)\n",
    "\n",
    "# Đánh giá kết quả SGAN\n",
    "accuracy = accuracy_score(y_test, y_pred_lstm)\n",
    "precision = precision_score(y_test, y_pred_lstm)\n",
    "recall = recall_score(y_test, y_pred_lstm)\n",
    "f1 = f1_score(y_test, y_pred_lstm)\n",
    "conf_matrix = confusion_matrix(y_test, y_pred_lstm)\n",
    "print(\"####### LSTM #######\")\n",
    "print(f\"Accuracy: {accuracy:.4f}\")\n",
    "print(f\"Precision: {precision:.4f}\")\n",
    "print(f\"Recall: {recall:.4f}\")\n",
    "print(f\"F1-score: {f1:.4f}\")\n",
    "print(\"Confusion Matrix:\")\n",
    "print(conf_matrix)\n",
    "tn, fp, fn, tp = conf_matrix.ravel()\n",
    "fpr = fp / (fp + tn)\n",
    "print(f\"False Positive Rate: {fpr:.4f}\")"
   ]
  },
  {
   "cell_type": "code",
   "execution_count": null,
   "metadata": {},
   "outputs": [],
   "source": []
  }
 ],
 "metadata": {
  "colab": {
   "provenance": []
  },
  "kernelspec": {
   "display_name": "Python 3 (ipykernel)",
   "language": "python",
   "name": "python3"
  },
  "language_info": {
   "codemirror_mode": {
    "name": "ipython",
    "version": 3
   },
   "file_extension": ".py",
   "mimetype": "text/x-python",
   "name": "python",
   "nbconvert_exporter": "python",
   "pygments_lexer": "ipython3",
   "version": "3.11.6"
  }
 },
 "nbformat": 4,
 "nbformat_minor": 1
}
