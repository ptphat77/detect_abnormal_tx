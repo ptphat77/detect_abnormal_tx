{
 "cells": [
  {
   "cell_type": "code",
   "execution_count": 1,
   "metadata": {},
   "outputs": [],
   "source": [
    "import numpy as np\n",
    "import pandas as pd\n",
    "from sklearn.model_selection import train_test_split\n",
    "from sklearn.linear_model import LogisticRegression\n",
    "from sklearn.metrics import accuracy_score, fbeta_score, f1_score\n",
    "from sklearn.preprocessing import MinMaxScaler\n"
   ]
  },
  {
   "cell_type": "code",
   "execution_count": 2,
   "metadata": {
    "id": "v6Y1NBA_eGB6"
   },
   "outputs": [
    {
     "name": "stdout",
     "output_type": "stream",
     "text": [
      "                                                hash   \n",
      "0  0x55d13b2d19b517ff6255124753e609778e9095db7e79...  \\\n",
      "\n",
      "                                 from_address   \n",
      "0  0xaa0d8f86869b0a406da56db978e02bf5a6c74fd5  \\\n",
      "\n",
      "                                   to_address  from-all_degree   \n",
      "0  0xc249fe0288e75e47e62b138de8d020c9fee5a9f5             23.0  \\\n",
      "\n",
      "   from-total_time_outgoing  from-active_duration  from-avg_gas_price   \n",
      "0              3.536349e+13          1.222433e+09        7.195652e+09  \\\n",
      "\n",
      "   from-total_amount  from-in_degree  from-unique_in_degree  ...   \n",
      "0       1.030000e+18             0.0                    0.0  ...  \\\n",
      "\n",
      "   to-unique_out_degree  to-avg_amount_outgoing  to-total_amount_outgoing   \n",
      "0                   0.0                    -1.0                       0.0  \\\n",
      "\n",
      "   to-min_amount_outgoing  to-avg_time_outgoing  to-mean_time_interval   \n",
      "0                    -1.0                  -1.0           4.754501e+08  \\\n",
      "\n",
      "   to-max_time_interval  to-min_time_interval  to-coefficient  label  \n",
      "0          1.137734e+10                5000.0             0.0      1  \n",
      "\n",
      "[1 rows x 48 columns]\n",
      "num_features:  22\n",
      "[0.00000000e+00 2.98645018e-06 0.00000000e+00 5.57638889e-02\n",
      " 7.17094173e-08 0.00000000e+00 0.00000000e+00 0.00000000e+00\n",
      " 0.00000000e+00 0.00000000e+00 0.00000000e+00 0.00000000e+00\n",
      " 0.00000000e+00 0.00000000e+00 1.00000000e-06 7.17094173e-08\n",
      " 1.00000000e-06 1.11473546e-01 0.00000000e+00 0.00000000e+00\n",
      " 0.00000000e+00 0.00000000e+00 0.00000000e+00 0.00000000e+00\n",
      " 0.00000000e+00 5.57638889e-02 8.27047770e-08 0.00000000e+00\n",
      " 0.00000000e+00 1.00000000e-06 1.13442202e-07 6.25000000e-07\n",
      " 1.00000000e-06 1.11482447e-01 0.00000000e+00 0.00000000e+00\n",
      " 0.00000000e+00 0.00000000e+00 0.00000000e+00 0.00000000e+00\n",
      " 0.00000000e+00 0.00000000e+00 0.00000000e+00 0.00000000e+00]\n"
     ]
    }
   ],
   "source": [
    "\n",
    "# Đọc dữ liệu từ tệp CSV\n",
    "data = pd.read_csv('../balanced_transaction-from-to-prefix-22.csv')\n",
    "\n",
    "############## Loại bỏ các transaction trùng lặp ##############\n",
    "# df = data.drop_duplicates(subset=['from_address', 'from_address'], inplace=False)\n",
    "# # Lấy tất cả địa chỉ bất thường (nhãn 1)\n",
    "# abnormal_addresses = df[df['label'] == 1]\n",
    "\n",
    "# # Tính số lượng địa chỉ bình thường cần lấy\n",
    "# num_normal_addresses = int(len(abnormal_addresses) / 0.46 * 0.54)\n",
    "\n",
    "# # Lấy ngẫu nhiên các địa chỉ bình thường\n",
    "# normal_addresses = df[df['label'] == 0].sample(num_normal_addresses, random_state=42)\n",
    "\n",
    "# # Kết hợp các địa chỉ bất thường và bình thường\n",
    "# balanced_df = pd.concat([abnormal_addresses, normal_addresses])\n",
    "\n",
    "# # Trộn lại tập dữ liệu\n",
    "# data = balanced_df.sample(frac=1, random_state=42).reset_index(drop=True)\n",
    "# print(data.shape)\n",
    "\n",
    "#################################################################\n",
    "\n",
    "data = data.replace(np.nan, -1)\n",
    "print(data.head(1))\n",
    "#22-KLTN-newtime\n",
    "# data = data[['hash', 'from_address', 'to_address', 'label','from-all_degree', 'from-total_time_outgoing', 'from-avg_gas_price', 'from-in_degree', 'from-unique_in_degree', 'from-max_amount_incoming', 'from-min_amount_incoming', 'from-avg_time_incoming', 'from-out_degree', 'from-unique_out_degree', 'from-total_amount_outgoing', 'from-avg_time_outgoing', 'from-mean_time_interval', 'from-max_time_interval', 'from-min_time_interval', 'to-all_degree', 'to-total_time_outgoing', 'to-avg_gas_price', 'to-in_degree', 'to-unique_in_degree', 'to-max_amount_incoming', 'to-min_amount_incoming', 'to-avg_time_incoming', 'to-out_degree', 'to-unique_out_degree', 'to-total_amount_outgoing', 'to-avg_time_outgoing', 'to-mean_time_interval', 'to-max_time_interval', 'to-min_time_interval']]\n",
    "\n",
    "# data = data[['hash', 'from_address', 'to_address', 'label', 'from-active_duration','from-avg_gas_price','from-unique_in_degree','from-avg_amount_incoming','from-out_degree','from-avg_amount_outgoing','from-mean_time_interval','to-active_duration','to-avg_gas_price','to-unique_in_degree','to-avg_amount_incoming','to-out_degree','to-avg_amount_outgoing','to-mean_time_interval']]\n",
    "# data = data[['hash', 'from_address', 'to_address', 'label', 'from-avg_gas_price', 'from-total_amount', 'from-unique_in_degree','from-total_amount_incoming', 'from-max_amount_incoming','from-min_amount_incoming', 'from-unique_out_degree','from-total_amount_outgoing', 'from-min_amount_outgoing','from-mean_time_interval', 'from-max_time_interval','from-min_time_interval', 'to-avg_gas_price', 'to-total_amount', 'to-unique_in_degree','to-total_amount_incoming', 'to-max_amount_incoming','to-min_amount_incoming', 'to-unique_out_degree','to-total_amount_outgoing', 'to-min_amount_outgoing','to-mean_time_interval', 'to-max_time_interval','to-min_time_interval']]\n",
    "# print('##############')\n",
    "# print(data.head(1))\n",
    "\n",
    "X = data.drop(columns=['hash','from_address','to_address','label'], axis=1).values\n",
    "y = data['label'].values\n",
    "\n",
    "# Tiền xử lý dữ liệu\n",
    "scaler = MinMaxScaler()\n",
    "normalized_data = scaler.fit_transform(X)\n",
    "\n",
    "# Chia dữ liệu thành tập huấn luyện và kiểm tra\n",
    "X_train, X_test, y_train, y_test = train_test_split(normalized_data, y, test_size=0.2, random_state=42)\n",
    "\n",
    "# X_test = (X_test - 127.5) / 127.5\n",
    "# X_test = X_test / 255.0\n",
    "# X = (trainX - 127.5) / 127.5\n",
    "# X_train = trainX / 255.0  \n",
    "\n",
    "# Số lượng đặc trưng\n",
    "num_features = int(X_train.shape[1] / 2)\n",
    "\n",
    "print(\"num_features: \" ,num_features)\n",
    "print(X_train[1])\n"
   ]
  },
  {
   "cell_type": "code",
   "execution_count": 3,
   "metadata": {},
   "outputs": [
    {
     "name": "stdout",
     "output_type": "stream",
     "text": [
      "test select\n",
      "[ 7270   860  5390  5191 11964 11284  5734  6265   466  4426  5578 11636\n",
      " 11363 11111  8322  1685   769 10583  6949  2433  5311  5051  6420  1184\n",
      "  4555  3385 12309  6396 13035 11096  8666  9274  2558  7849  2047  2747\n",
      "  9167  9998   189  2734  3005  4658  1899  7734  1267  1528 11394  3556\n",
      "  3890  8838]\n",
      "[11080  5393 10627  8792 10555 10253  8433 10233 11016  7513  2612  7041\n",
      "  9555  6235  5486  7099  9670 10748   775  8226  3152 10147  1585  3943\n",
      "  7555  3073  1021 10805  3843  7989  9692  6873  5675   161  4297 10173\n",
      "   995  7629  9467  1016  7869  6439  7892  6863  7916  8529   878  9268\n",
      "  4887  4859]\n"
     ]
    }
   ],
   "source": [
    "from numpy.random import randn, randint\n",
    "from numpy import expand_dims, zeros, ones, asarray\n",
    "\n",
    "np.random.seed(42)\n",
    "\n",
    "def select_supervised_samples(dataset, n_samples=100, n_classes=2):\n",
    " \tprint('test select')\n",
    " \tX, y = dataset\n",
    " \tX_list, y_list = list(), list()\n",
    " \tn_per_class = int(n_samples / n_classes) #Number of amples per class.\n",
    " \tfor i in range(n_classes):\n",
    "         X_with_class = X[y == i] # get all images for this class\n",
    "         ix = np.random.randint(0, len(X_with_class), n_per_class) # choose random images for each class\n",
    "         print(ix)\n",
    "         [X_list.append(X_with_class[j]) for j in ix] # add to list\n",
    "         [y_list.append(i) for j in ix]\n",
    " \treturn asarray(X_list), asarray(y_list) #Returns a list of 2 numpy arrays corresponding to X and Y\n",
    "\n",
    "dataset = [X_train, y_train]\n",
    "X_train, y_train = select_supervised_samples(dataset)"
   ]
  },
  {
   "cell_type": "code",
   "execution_count": 4,
   "metadata": {
    "colab": {
     "base_uri": "https://localhost:8080/"
    },
    "id": "k6rUBJ-EeU2Y",
    "outputId": "84583909-e59a-4430-f785-7ece4ab8236c"
   },
   "outputs": [
    {
     "data": {
      "text/html": [
       "<style>#sk-container-id-1 {color: black;background-color: white;}#sk-container-id-1 pre{padding: 0;}#sk-container-id-1 div.sk-toggleable {background-color: white;}#sk-container-id-1 label.sk-toggleable__label {cursor: pointer;display: block;width: 100%;margin-bottom: 0;padding: 0.3em;box-sizing: border-box;text-align: center;}#sk-container-id-1 label.sk-toggleable__label-arrow:before {content: \"▸\";float: left;margin-right: 0.25em;color: #696969;}#sk-container-id-1 label.sk-toggleable__label-arrow:hover:before {color: black;}#sk-container-id-1 div.sk-estimator:hover label.sk-toggleable__label-arrow:before {color: black;}#sk-container-id-1 div.sk-toggleable__content {max-height: 0;max-width: 0;overflow: hidden;text-align: left;background-color: #f0f8ff;}#sk-container-id-1 div.sk-toggleable__content pre {margin: 0.2em;color: black;border-radius: 0.25em;background-color: #f0f8ff;}#sk-container-id-1 input.sk-toggleable__control:checked~div.sk-toggleable__content {max-height: 200px;max-width: 100%;overflow: auto;}#sk-container-id-1 input.sk-toggleable__control:checked~label.sk-toggleable__label-arrow:before {content: \"▾\";}#sk-container-id-1 div.sk-estimator input.sk-toggleable__control:checked~label.sk-toggleable__label {background-color: #d4ebff;}#sk-container-id-1 div.sk-label input.sk-toggleable__control:checked~label.sk-toggleable__label {background-color: #d4ebff;}#sk-container-id-1 input.sk-hidden--visually {border: 0;clip: rect(1px 1px 1px 1px);clip: rect(1px, 1px, 1px, 1px);height: 1px;margin: -1px;overflow: hidden;padding: 0;position: absolute;width: 1px;}#sk-container-id-1 div.sk-estimator {font-family: monospace;background-color: #f0f8ff;border: 1px dotted black;border-radius: 0.25em;box-sizing: border-box;margin-bottom: 0.5em;}#sk-container-id-1 div.sk-estimator:hover {background-color: #d4ebff;}#sk-container-id-1 div.sk-parallel-item::after {content: \"\";width: 100%;border-bottom: 1px solid gray;flex-grow: 1;}#sk-container-id-1 div.sk-label:hover label.sk-toggleable__label {background-color: #d4ebff;}#sk-container-id-1 div.sk-serial::before {content: \"\";position: absolute;border-left: 1px solid gray;box-sizing: border-box;top: 0;bottom: 0;left: 50%;z-index: 0;}#sk-container-id-1 div.sk-serial {display: flex;flex-direction: column;align-items: center;background-color: white;padding-right: 0.2em;padding-left: 0.2em;position: relative;}#sk-container-id-1 div.sk-item {position: relative;z-index: 1;}#sk-container-id-1 div.sk-parallel {display: flex;align-items: stretch;justify-content: center;background-color: white;position: relative;}#sk-container-id-1 div.sk-item::before, #sk-container-id-1 div.sk-parallel-item::before {content: \"\";position: absolute;border-left: 1px solid gray;box-sizing: border-box;top: 0;bottom: 0;left: 50%;z-index: -1;}#sk-container-id-1 div.sk-parallel-item {display: flex;flex-direction: column;z-index: 1;position: relative;background-color: white;}#sk-container-id-1 div.sk-parallel-item:first-child::after {align-self: flex-end;width: 50%;}#sk-container-id-1 div.sk-parallel-item:last-child::after {align-self: flex-start;width: 50%;}#sk-container-id-1 div.sk-parallel-item:only-child::after {width: 0;}#sk-container-id-1 div.sk-dashed-wrapped {border: 1px dashed gray;margin: 0 0.4em 0.5em 0.4em;box-sizing: border-box;padding-bottom: 0.4em;background-color: white;}#sk-container-id-1 div.sk-label label {font-family: monospace;font-weight: bold;display: inline-block;line-height: 1.2em;}#sk-container-id-1 div.sk-label-container {text-align: center;}#sk-container-id-1 div.sk-container {/* jupyter's `normalize.less` sets `[hidden] { display: none; }` but bootstrap.min.css set `[hidden] { display: none !important; }` so we also need the `!important` here to be able to override the default hidden behavior on the sphinx rendered scikit-learn.org. See: https://github.com/scikit-learn/scikit-learn/issues/21755 */display: inline-block !important;position: relative;}#sk-container-id-1 div.sk-text-repr-fallback {display: none;}</style><div id=\"sk-container-id-1\" class=\"sk-top-container\"><div class=\"sk-text-repr-fallback\"><pre>LogisticRegression(random_state=0)</pre><b>In a Jupyter environment, please rerun this cell to show the HTML representation or trust the notebook. <br />On GitHub, the HTML representation is unable to render, please try loading this page with nbviewer.org.</b></div><div class=\"sk-container\" hidden><div class=\"sk-item\"><div class=\"sk-estimator sk-toggleable\"><input class=\"sk-toggleable__control sk-hidden--visually\" id=\"sk-estimator-id-1\" type=\"checkbox\" checked><label for=\"sk-estimator-id-1\" class=\"sk-toggleable__label sk-toggleable__label-arrow\">LogisticRegression</label><div class=\"sk-toggleable__content\"><pre>LogisticRegression(random_state=0)</pre></div></div></div></div></div>"
      ],
      "text/plain": [
       "LogisticRegression(random_state=0)"
      ]
     },
     "execution_count": 4,
     "metadata": {},
     "output_type": "execute_result"
    }
   ],
   "source": [
    "logreg = LogisticRegression(random_state=0)\n",
    "\n",
    "# Huấn luyện mô hình\n",
    "logreg.fit(X_train, y_train)"
   ]
  },
  {
   "cell_type": "code",
   "execution_count": 5,
   "metadata": {},
   "outputs": [
    {
     "name": "stdout",
     "output_type": "stream",
     "text": [
      "Thời gian thực thi: 1022.60 micro giây\n",
      "[0 0 0 ... 0 0 1]\n",
      "<class 'numpy.ndarray'>\n",
      "6196\n",
      "accuracy:  0.8223047127178825\n",
      "fpr:  0.17769528728211748\n",
      "f1-score:  0.7845822735276854\n"
     ]
    }
   ],
   "source": [
    "import time\n",
    "# Lấy thời gian bắt đầu\n",
    "start_time = time.perf_counter()\n",
    "\n",
    "y_pred = logreg.predict(X_test)\n",
    "\n",
    "# Lấy thời gian kết thúc\n",
    "end_time = time.perf_counter()\n",
    "# Tính thời gian thực thi (đơn vị: giây)\n",
    "execution_time = end_time - start_time\n",
    "# Chuyển đơi sang đơn vị micro giây\n",
    "execution_time_microseconds = execution_time * 1000000\n",
    "print(f\"Thời gian thực thi: {execution_time_microseconds:.2f} micro giây\")\n",
    "\n",
    "print(y_pred)\n",
    "accuracy = accuracy_score(y_test, y_pred)\n",
    "fpr = 1 - fbeta_score(y_test, y_pred, beta=2, average='micro')  # Sử dụng F2-score để ước tính FPR\n",
    "f1_score = f1_score(y_test, y_pred)\n",
    "print(type(y_pred))\n",
    "print(len(y_pred))\n",
    "print(\"accuracy: \", accuracy)\n",
    "print(\"fpr: \", fpr)\n",
    "print(\"f1-score: \", f1_score)"
   ]
  },
  {
   "cell_type": "code",
   "execution_count": 6,
   "metadata": {},
   "outputs": [
    {
     "name": "stdout",
     "output_type": "stream",
     "text": [
      "Dương tính giả (false positive rate): 0.0737\n"
     ]
    }
   ],
   "source": [
    "from sklearn.metrics import confusion_matrix\n",
    "tn, fp, fn, tp = confusion_matrix(y_test, y_pred).ravel()\n",
    "\n",
    "# Tính toán dương tính giả (false positive rate)\n",
    "fpr = fp / (fp + tn)\n",
    "\n",
    "print(f\"Dương tính giả (false positive rate): {fpr:.4f}\")"
   ]
  },
  {
   "cell_type": "code",
   "execution_count": null,
   "metadata": {},
   "outputs": [],
   "source": []
  }
 ],
 "metadata": {
  "colab": {
   "provenance": []
  },
  "kernelspec": {
   "display_name": "Python 3 (ipykernel)",
   "language": "python",
   "name": "python3"
  },
  "language_info": {
   "codemirror_mode": {
    "name": "ipython",
    "version": 3
   },
   "file_extension": ".py",
   "mimetype": "text/x-python",
   "name": "python",
   "nbconvert_exporter": "python",
   "pygments_lexer": "ipython3",
   "version": "3.11.6"
  }
 },
 "nbformat": 4,
 "nbformat_minor": 1
}
